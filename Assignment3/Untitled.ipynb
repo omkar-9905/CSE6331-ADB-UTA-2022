{
 "cells": [
  {
   "cell_type": "code",
   "execution_count": 5,
   "id": "046122d2",
   "metadata": {},
   "outputs": [],
   "source": [
    "from timeit import timeit\n",
    "import requests\n",
    "import timeit\n",
    "\n",
    "url = \"http://127.0.0.1:5000\""
   ]
  },
  {
   "cell_type": "code",
   "execution_count": 11,
   "id": "0c01669f",
   "metadata": {},
   "outputs": [
    {
     "name": "stdout",
     "output_type": "stream",
     "text": [
      "545 ms ± 0 ns per loop (mean ± std. dev. of 1 run, 20 loops each)\n"
     ]
    }
   ],
   "source": [
    "%timeit -n20 -r1 requests.post(url,data={'input':129,'from':'','to':''})"
   ]
  },
  {
   "cell_type": "code",
   "execution_count": null,
   "id": "ad39b562",
   "metadata": {},
   "outputs": [],
   "source": [
    "%timeit -n20 -r1 requests.post(url,data={'input':129,'from':'','to':''})"
   ]
  },
  {
   "cell_type": "code",
   "execution_count": null,
   "id": "fdb5b2bf",
   "metadata": {},
   "outputs": [],
   "source": []
  }
 ],
 "metadata": {
  "kernelspec": {
   "display_name": "Python 3 (ipykernel)",
   "language": "python",
   "name": "python3"
  },
  "language_info": {
   "codemirror_mode": {
    "name": "ipython",
    "version": 3
   },
   "file_extension": ".py",
   "mimetype": "text/x-python",
   "name": "python",
   "nbconvert_exporter": "python",
   "pygments_lexer": "ipython3",
   "version": "3.9.7"
  }
 },
 "nbformat": 4,
 "nbformat_minor": 5
}
