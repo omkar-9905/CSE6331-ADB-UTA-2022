{
 "cells": [
  {
   "cell_type": "code",
   "execution_count": 1,
   "id": "288294ed",
   "metadata": {},
   "outputs": [],
   "source": [
    "from timeit import timeit\n",
    "import requests\n",
    "import timeit\n",
    "\n",
    "url = \"http://127.0.0.1:5000\""
   ]
  },
  {
   "cell_type": "code",
   "execution_count": 4,
   "id": "7388f746",
   "metadata": {},
   "outputs": [
    {
     "data": {
      "text/plain": [
       "<Response [200]>"
      ]
     },
     "execution_count": 4,
     "metadata": {},
     "output_type": "execute_result"
    }
   ],
   "source": [
    "requests.post(url,data={'input':28,'from':'','to':''})"
   ]
  },
  {
   "cell_type": "code",
   "execution_count": null,
   "id": "9ca76804",
   "metadata": {},
   "outputs": [],
   "source": []
  }
 ],
 "metadata": {
  "kernelspec": {
   "display_name": "Python 3 (ipykernel)",
   "language": "python",
   "name": "python3"
  },
  "language_info": {
   "codemirror_mode": {
    "name": "ipython",
    "version": 3
   },
   "file_extension": ".py",
   "mimetype": "text/x-python",
   "name": "python",
   "nbconvert_exporter": "python",
   "pygments_lexer": "ipython3",
   "version": "3.9.7"
  }
 },
 "nbformat": 4,
 "nbformat_minor": 5
}
